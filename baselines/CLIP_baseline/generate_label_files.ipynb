{
 "cells": [
  {
   "cell_type": "code",
   "execution_count": null,
   "metadata": {},
   "outputs": [],
   "source": [
    "import os\n",
    "import csv\n",
    "\n",
    "# Root image folder\n",
    "image_root = \"images\"\n",
    "output_csv = \"test_image_labels.csv\"\n",
    "\n",
    "# Prepare list of rows\n",
    "rows = []\n",
    "\n",
    "# Traverse the image directory\n",
    "for typ in os.listdir(image_root):\n",
    "    typ_path = os.path.join(image_root, typ)\n",
    "    if not os.path.isdir(typ_path):\n",
    "        continue  # skip non-folder files\n",
    "    for fname in os.listdir(typ_path):\n",
    "        if fname.lower().endswith((\".png\", \".jpg\", \".jpeg\", \".bmp\", \".tiff\", \".webp\")):\n",
    "            full_path = os.path.join(typ_path, fname)\n",
    "            rows.append({\n",
    "                \"filename\": full_path,\n",
    "                \"typ\": typ\n",
    "            })\n",
    "\n",
    "# Write to CSV\n",
    "with open(output_csv, \"w\", newline=\"\") as csvfile:\n",
    "    writer = csv.DictWriter(csvfile, fieldnames=[\"filename\", \"typ\"])\n",
    "    writer.writeheader()\n",
    "    writer.writerows(rows)\n",
    "\n",
    "print(f\"CSV saved to {output_csv} with {len(rows)} entries.\")\n"
   ]
  }
 ],
 "metadata": {
  "kernelspec": {
   "display_name": "deepfake",
   "language": "python",
   "name": "python3"
  },
  "language_info": {
   "codemirror_mode": {
    "name": "ipython",
    "version": 3
   },
   "file_extension": ".py",
   "mimetype": "text/x-python",
   "name": "python",
   "nbconvert_exporter": "python",
   "pygments_lexer": "ipython3",
   "version": "3.10.16"
  }
 },
 "nbformat": 4,
 "nbformat_minor": 2
}
